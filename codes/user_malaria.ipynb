{
 "cells": [
  {
   "cell_type": "code",
   "execution_count": 3,
   "metadata": {},
   "outputs": [],
   "source": [
    "from keras.models import load_model\n",
    "from PIL import Image\n",
    "from PIL import Image\n",
    "import numpy as np\n",
    "import os\n",
    "import cv2\n",
    "def convert_to_array(img):\n",
    "    im = cv2.imread(img)\n",
    "    img_ = Image.fromarray(im, 'RGB')\n",
    "    image = img_.resize((50, 50))\n",
    "    return np.array(image)\n",
    "def get_cell_name(label):\n",
    "    if label==0:\n",
    "        return \"Paracitized\"\n",
    "    if label==1:\n",
    "        return \"Uninfected\"\n",
    "def predict_cell(file):\n",
    "    model = load_model('cells.h5')\n",
    "    print(\"Predicting Type of Cell Image.................................\")\n",
    "    ar=convert_to_array(file)\n",
    "    ar=ar/255\n",
    "    label=1\n",
    "    a=[]\n",
    "    a.append(ar)\n",
    "    a=np.array(a)\n",
    "    score=model.predict(a,verbose=1)\n",
    "    print(score)\n",
    "    label_index=np.argmax(score)\n",
    "    print(label_index)\n",
    "    acc=np.max(score)\n",
    "    Cell=get_cell_name(label_index)\n",
    "    return Cell,\"The predicted Cell is a \"+Cell+\" with accuracy =    \"+str(acc)"
   ]
  },
  {
   "cell_type": "code",
   "execution_count": 4,
   "metadata": {},
   "outputs": [
    {
     "name": "stdout",
     "output_type": "stream",
     "text": [
      "Predicting Type of Cell Image.................................\n",
      "1/1 [==============================] - 0s 278ms/step\n",
      "[[9.9999976e-01 1.9136868e-07]]\n",
      "0\n",
      "Predicting Type of Cell Image.................................\n",
      "1/1 [==============================] - 0s 286ms/step\n",
      "[[0.01744822 0.9825518 ]]\n",
      "1\n"
     ]
    }
   ],
   "source": [
    "from tkinter import filedialog \n",
    "from tkinter import messagebox as mbox\n",
    "from tkinter import Frame, Tk, BOTH, Text, Menu, END\n",
    "\n",
    "class Example(Frame):\n",
    "\n",
    "    def __init__(self):\n",
    "        super().__init__()   \n",
    "\n",
    "        self.initUI()\n",
    "\n",
    "\n",
    "    def initUI(self):\n",
    "\n",
    "        self.master.title(\"File dialog\")\n",
    "        self.pack(fill=BOTH, expand=1)\n",
    "\n",
    "        menubar = Menu(self.master)\n",
    "        self.master.config(menu=menubar)\n",
    "\n",
    "        fileMenu = Menu(menubar)\n",
    "        fileMenu.add_command(label=\"Open\", command=self.onOpen)\n",
    "        menubar.add_cascade(label=\"File\", menu=fileMenu)        \n",
    "\n",
    "        \n",
    "\n",
    "    def onOpen(self):\n",
    "\n",
    "        ftypes = [('Image', '*.png'), ('All files', '*')]\n",
    "        dlg = filedialog.Open(self, filetypes = ftypes)\n",
    "        fl = dlg.show()\n",
    "        c,s=predict_cell(fl)\n",
    "        root = Tk()\n",
    "        T = Text(root, height=4, width=70)\n",
    "        T.pack()\n",
    "        T.insert(END, s)\n",
    "        \n",
    "\n",
    "def main():\n",
    "    root = Tk()\n",
    "    ex = Example()\n",
    "    root.geometry(\"100x50+100+100\")\n",
    "    root.mainloop()  \n",
    "\n",
    "\n",
    "if __name__ == '__main__':\n",
    "    main()"
   ]
  },
  {
   "cell_type": "code",
   "execution_count": null,
   "metadata": {},
   "outputs": [],
   "source": []
  },
  {
   "cell_type": "code",
   "execution_count": null,
   "metadata": {},
   "outputs": [],
   "source": []
  }
 ],
 "metadata": {
  "kernelspec": {
   "display_name": "Python 3",
   "language": "python",
   "name": "python3"
  },
  "language_info": {
   "codemirror_mode": {
    "name": "ipython",
    "version": 3
   },
   "file_extension": ".py",
   "mimetype": "text/x-python",
   "name": "python",
   "nbconvert_exporter": "python",
   "pygments_lexer": "ipython3",
   "version": "3.6.5"
  }
 },
 "nbformat": 4,
 "nbformat_minor": 2
}
